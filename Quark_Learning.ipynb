{
  "nbformat": 4,
  "nbformat_minor": 0,
  "metadata": {
    "colab": {
      "name": "Quark Learning.ipynb",
      "provenance": [],
      "authorship_tag": "ABX9TyOq2ErhpeUu9+1ZxBSkeMME",
      "include_colab_link": true
    },
    "kernelspec": {
      "name": "python3",
      "display_name": "Python 3"
    }
  },
  "cells": [
    {
      "cell_type": "markdown",
      "metadata": {
        "id": "view-in-github",
        "colab_type": "text"
      },
      "source": [
        "<a href=\"https://colab.research.google.com/github/Usha03/Sample/blob/master/Quark_Learning.ipynb\" target=\"_parent\"><img src=\"https://colab.research.google.com/assets/colab-badge.svg\" alt=\"Open In Colab\"/></a>"
      ]
    },
    {
      "cell_type": "code",
      "metadata": {
        "id": "USnzlxL9tBy6",
        "colab_type": "code",
        "colab": {}
      },
      "source": [
        ""
      ],
      "execution_count": null,
      "outputs": []
    },
    {
      "cell_type": "markdown",
      "metadata": {
        "id": "w7WtvEEyuCZr",
        "colab_type": "text"
      },
      "source": [
        "**Agenda**:\n",
        "\n",
        "> Introduction\n",
        "\n",
        "> Why & where\n",
        "\n",
        "> Explaing Usage\n",
        "\n",
        "*   **Code Cell vs Text Cell**\n",
        "*   [Link for this file](https://colab.research.google.com/drive/1qeswwZZrV6bK1ovP8AqM6PdKJK6oJPbW#scrollTo=w7WtvEEyuCZr)\n",
        "*   Mathematical Equation - $\\sqrt{a^2-b^2}$\n",
        "*   √3x-1+(1+𝑥)2\n",
        "*   **Menu items under cells**\n",
        "*   **Saving files**\n",
        "*   **Running code junk**\n",
        "Hello Yes",
        "\n"
      ]
    }
  ]
}
