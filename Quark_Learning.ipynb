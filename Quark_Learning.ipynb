{
  "nbformat": 4,
  "nbformat_minor": 0,
  "metadata": {
    "colab": {
      "name": "Quark Learning.ipynb",
      "provenance": [],
      "collapsed_sections": [],
      "authorship_tag": "ABX9TyP/b8CwCutwvp2EQZs5W3pz",
      "include_colab_link": true
    },
    "kernelspec": {
      "name": "python3",
      "display_name": "Python 3"
    }
  },
  "cells": [
    {
      "cell_type": "markdown",
      "metadata": {
        "id": "view-in-github",
        "colab_type": "text"
      },
      "source": [
        "<a href=\"https://colab.research.google.com/github/Usha03/Sample/blob/master/Quark_Learning.ipynb\" target=\"_parent\"><img src=\"https://colab.research.google.com/assets/colab-badge.svg\" alt=\"Open In Colab\"/></a>"
      ]
    },
    {
      "cell_type": "markdown",
      "metadata": {
        "id": "w7WtvEEyuCZr",
        "colab_type": "text"
      },
      "source": [
        "\n",
        "\n",
        "*   **Code Cell vs Text Cell**\n",
        "*   [Link for this file](https://colab.research.google.com/drive/1qeswwZZrV6bK1ovP8AqM6PdKJK6oJPbW#scrollTo=w7WtvEEyuCZr)\n",
        "*   Mathematical Equation - $\\sqrt{a^2-b^2}$\n",
        "*   **Menu items under cells**\n",
        "*   ~Saving files~\n",
        "*   *Running code junk*\n",
        "*   Sharing Notebook\n",
        "*   System Commands\n",
        "\n",
        "*   Adding Forms\n",
        "*   Reading files from local\n",
        "\n",
        "\n"
      ]
    },
    {
      "cell_type": "code",
      "metadata": {
        "id": "uyu0wO7-4zW1",
        "colab_type": "code",
        "colab": {}
      },
      "source": [
        "msg = 'Dark is overrated :P'\n",
        "msg_to_print = !echo -e '$msg\\n$msg'\n",
        "msg_to_print"
      ],
      "execution_count": null,
      "outputs": []
    },
    {
      "cell_type": "code",
      "metadata": {
        "id": "6iCidEaY5pP4",
        "colab_type": "code",
        "colab": {}
      },
      "source": [
        "!wget https://archive.ics.uci.edu/ml/machine-learning-databases/adult/adult.data"
      ],
      "execution_count": null,
      "outputs": []
    },
    {
      "cell_type": "code",
      "metadata": {
        "id": "Jp2D6AJD5yqM",
        "colab_type": "code",
        "colab": {}
      },
      "source": [
        "import pandas as pd\n",
        "data = pd.read_csv(\"adult.data\")\n",
        "data.head(5)"
      ],
      "execution_count": null,
      "outputs": []
    },
    {
      "cell_type": "code",
      "metadata": {
        "id": "8p2_PA6Y_28e",
        "colab_type": "code",
        "colab": {
          "base_uri": "https://localhost:8080/",
          "height": 34
        },
        "outputId": "e758cb87-f3e5-49f3-c2a5-a43d76bb303a"
      },
      "source": [
        "#@title Enter Number { display-mode: \"both\" }\n",
        "num =  5#@param {type:\"integer\"}\n",
        "divide_by = 3 #@param [2,3]\n",
        "\n",
        "\n",
        "output = num%divide_by\n",
        "output\n"
      ],
      "execution_count": null,
      "outputs": [
        {
          "output_type": "execute_result",
          "data": {
            "text/plain": [
              "2"
            ]
          },
          "metadata": {
            "tags": []
          },
          "execution_count": 19
        }
      ]
    },
    {
      "cell_type": "code",
      "metadata": {
        "id": "iugxy38lBQtH",
        "colab_type": "code",
        "colab": {}
      },
      "source": [
        "from google.colab import files\n",
        "uploaded = files.upload()"
      ],
      "execution_count": null,
      "outputs": []
    },
    {
      "cell_type": "code",
      "metadata": {
        "id": "uJK8ckyIBTtE",
        "colab_type": "code",
        "colab": {}
      },
      "source": [
        "df = pd.read_csv('day.csv')\n",
        "df.head()"
      ],
      "execution_count": null,
      "outputs": []
    },
    {
      "cell_type": "code",
      "metadata": {
        "id": "LulgSWA2E23G",
        "colab_type": "code",
        "colab": {}
      },
      "source": [
        "file_from_github = pd.read_csv(url)\n"
      ],
      "execution_count": null,
      "outputs": []
    },
    {
      "cell_type": "code",
      "metadata": {
        "id": "EEYlHE2uC8rB",
        "colab_type": "code",
        "colab": {}
      },
      "source": [
        "!python3 Sample.py"
      ],
      "execution_count": null,
      "outputs": []
    },
    {
      "cell_type": "code",
      "metadata": {
        "id": "HznzM1ubFbUe",
        "colab_type": "code",
        "colab": {}
      },
      "source": [
        "!pip install -U -q PyDrive\n",
        "from pydrive.auth import GoogleAuth\n",
        "from pydrive.drive import GoogleDrive\n",
        "from google.colab import auth\n",
        "from oauth2client.client import GoogleCredentials\n",
        "# Authenticate and create the PyDrive client.\n",
        "#auth.authenticate_user()\n",
        "gauth = GoogleAuth()\n",
        "gauth.credentials = GoogleCredentials.get_application_default()\n",
        "drive = GoogleDrive(gauth)"
      ],
      "execution_count": null,
      "outputs": []
    },
    {
      "cell_type": "code",
      "metadata": {
        "id": "MKKen7l7Bjba",
        "colab_type": "code",
        "colab": {}
      },
      "source": [
        "#import keras\n",
        "#!pip install -q keras\n",
        "import keras as k\n"
      ],
      "execution_count": null,
      "outputs": []
    }
  ]
}